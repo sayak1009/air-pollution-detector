{
  "nbformat": 4,
  "nbformat_minor": 0,
  "metadata": {
    "colab": {
      "name": "Multivariant_final_AirPollution.ipynb",
      "provenance": [],
      "collapsed_sections": []
    },
    "kernelspec": {
      "name": "python3",
      "display_name": "Python 3"
    }
  },
  "cells": [
    {
      "cell_type": "code",
      "metadata": {
        "id": "HINioUPoQcKU",
        "colab_type": "code",
        "colab": {
          "base_uri": "https://localhost:8080/",
          "height": 71
        },
        "outputId": "d999b288-5a7a-431f-92f2-6da1c73c297e"
      },
      "source": [
        "import numpy as np\n",
        "import pandas as pd\n",
        "from matplotlib import pyplot as plt\n",
        "from sklearn.preprocessing import MinMaxScaler\n",
        "from sklearn.preprocessing import  LabelEncoder,OneHotEncoder\n",
        "from tensorflow.keras.models import Sequential\n",
        "from tensorflow.keras.layers import LSTM,Dense,Dropout\n",
        "from sklearn.metrics import mean_squared_error\n",
        "from sklearn.compose import ColumnTransformer\n",
        "import seaborn as sns\n",
        "\n",
        "np.random.seed(7)"
      ],
      "execution_count": 2,
      "outputs": [
        {
          "output_type": "stream",
          "text": [
            "/usr/local/lib/python3.6/dist-packages/statsmodels/tools/_testing.py:19: FutureWarning: pandas.util.testing is deprecated. Use the functions in the public API at pandas.testing instead.\n",
            "  import pandas.util.testing as tm\n"
          ],
          "name": "stderr"
        }
      ]
    },
    {
      "cell_type": "code",
      "metadata": {
        "id": "uQcPdTYeRDGA",
        "colab_type": "code",
        "colab": {
          "base_uri": "https://localhost:8080/",
          "height": 122
        },
        "outputId": "670cead6-06ab-415e-fcc7-f95afaf5e261"
      },
      "source": [
        "from google.colab import drive\n",
        "drive.mount('/content/gdrive')"
      ],
      "execution_count": 3,
      "outputs": [
        {
          "output_type": "stream",
          "text": [
            "Go to this URL in a browser: https://accounts.google.com/o/oauth2/auth?client_id=947318989803-6bn6qk8qdgf4n4g3pfee6491hc0brc4i.apps.googleusercontent.com&redirect_uri=urn%3aietf%3awg%3aoauth%3a2.0%3aoob&response_type=code&scope=email%20https%3a%2f%2fwww.googleapis.com%2fauth%2fdocs.test%20https%3a%2f%2fwww.googleapis.com%2fauth%2fdrive%20https%3a%2f%2fwww.googleapis.com%2fauth%2fdrive.photos.readonly%20https%3a%2f%2fwww.googleapis.com%2fauth%2fpeopleapi.readonly\n",
            "\n",
            "Enter your authorization code:\n",
            "··········\n",
            "Mounted at /content/gdrive\n"
          ],
          "name": "stdout"
        }
      ]
    },
    {
      "cell_type": "code",
      "metadata": {
        "id": "9q3SbkwxRKEK",
        "colab_type": "code",
        "colab": {
          "base_uri": "https://localhost:8080/",
          "height": 34
        },
        "outputId": "03ba4376-0a63-4f0b-cff2-7a43dcaf9ff0"
      },
      "source": [
        "!ls \"/content/gdrive/My Drive/ML_DataSet/AirPolution_Beijing.csv\"\n"
      ],
      "execution_count": 4,
      "outputs": [
        {
          "output_type": "stream",
          "text": [
            "'/content/gdrive/My Drive/ML_DataSet/AirPolution_Beijing.csv'\n"
          ],
          "name": "stdout"
        }
      ]
    },
    {
      "cell_type": "code",
      "metadata": {
        "id": "mv2PVsPQRN3A",
        "colab_type": "code",
        "colab": {
          "base_uri": "https://localhost:8080/",
          "height": 204
        },
        "outputId": "965922ff-c4fd-414e-9d54-27c8a9c44fcf"
      },
      "source": [
        "dataset=pd.read_csv('/content/gdrive/My Drive/ML_DataSet/AirPolution_Beijing.csv')\n",
        "dataset.head()"
      ],
      "execution_count": 5,
      "outputs": [
        {
          "output_type": "execute_result",
          "data": {
            "text/html": [
              "<div>\n",
              "<style scoped>\n",
              "    .dataframe tbody tr th:only-of-type {\n",
              "        vertical-align: middle;\n",
              "    }\n",
              "\n",
              "    .dataframe tbody tr th {\n",
              "        vertical-align: top;\n",
              "    }\n",
              "\n",
              "    .dataframe thead th {\n",
              "        text-align: right;\n",
              "    }\n",
              "</style>\n",
              "<table border=\"1\" class=\"dataframe\">\n",
              "  <thead>\n",
              "    <tr style=\"text-align: right;\">\n",
              "      <th></th>\n",
              "      <th>No</th>\n",
              "      <th>year</th>\n",
              "      <th>month</th>\n",
              "      <th>day</th>\n",
              "      <th>hour</th>\n",
              "      <th>pm2.5</th>\n",
              "      <th>DEWP</th>\n",
              "      <th>TEMP</th>\n",
              "      <th>PRES</th>\n",
              "      <th>cbwd</th>\n",
              "      <th>Iws</th>\n",
              "      <th>Is</th>\n",
              "      <th>Ir</th>\n",
              "    </tr>\n",
              "  </thead>\n",
              "  <tbody>\n",
              "    <tr>\n",
              "      <th>0</th>\n",
              "      <td>1</td>\n",
              "      <td>2010</td>\n",
              "      <td>1</td>\n",
              "      <td>1</td>\n",
              "      <td>0</td>\n",
              "      <td>NaN</td>\n",
              "      <td>-21</td>\n",
              "      <td>-11.0</td>\n",
              "      <td>1021.0</td>\n",
              "      <td>NW</td>\n",
              "      <td>1.79</td>\n",
              "      <td>0</td>\n",
              "      <td>0</td>\n",
              "    </tr>\n",
              "    <tr>\n",
              "      <th>1</th>\n",
              "      <td>2</td>\n",
              "      <td>2010</td>\n",
              "      <td>1</td>\n",
              "      <td>1</td>\n",
              "      <td>1</td>\n",
              "      <td>NaN</td>\n",
              "      <td>-21</td>\n",
              "      <td>-12.0</td>\n",
              "      <td>1020.0</td>\n",
              "      <td>NW</td>\n",
              "      <td>4.92</td>\n",
              "      <td>0</td>\n",
              "      <td>0</td>\n",
              "    </tr>\n",
              "    <tr>\n",
              "      <th>2</th>\n",
              "      <td>3</td>\n",
              "      <td>2010</td>\n",
              "      <td>1</td>\n",
              "      <td>1</td>\n",
              "      <td>2</td>\n",
              "      <td>NaN</td>\n",
              "      <td>-21</td>\n",
              "      <td>-11.0</td>\n",
              "      <td>1019.0</td>\n",
              "      <td>NW</td>\n",
              "      <td>6.71</td>\n",
              "      <td>0</td>\n",
              "      <td>0</td>\n",
              "    </tr>\n",
              "    <tr>\n",
              "      <th>3</th>\n",
              "      <td>4</td>\n",
              "      <td>2010</td>\n",
              "      <td>1</td>\n",
              "      <td>1</td>\n",
              "      <td>3</td>\n",
              "      <td>NaN</td>\n",
              "      <td>-21</td>\n",
              "      <td>-14.0</td>\n",
              "      <td>1019.0</td>\n",
              "      <td>NW</td>\n",
              "      <td>9.84</td>\n",
              "      <td>0</td>\n",
              "      <td>0</td>\n",
              "    </tr>\n",
              "    <tr>\n",
              "      <th>4</th>\n",
              "      <td>5</td>\n",
              "      <td>2010</td>\n",
              "      <td>1</td>\n",
              "      <td>1</td>\n",
              "      <td>4</td>\n",
              "      <td>NaN</td>\n",
              "      <td>-20</td>\n",
              "      <td>-12.0</td>\n",
              "      <td>1018.0</td>\n",
              "      <td>NW</td>\n",
              "      <td>12.97</td>\n",
              "      <td>0</td>\n",
              "      <td>0</td>\n",
              "    </tr>\n",
              "  </tbody>\n",
              "</table>\n",
              "</div>"
            ],
            "text/plain": [
              "   No  year  month  day  hour  pm2.5  DEWP  TEMP    PRES cbwd    Iws  Is  Ir\n",
              "0   1  2010      1    1     0    NaN   -21 -11.0  1021.0   NW   1.79   0   0\n",
              "1   2  2010      1    1     1    NaN   -21 -12.0  1020.0   NW   4.92   0   0\n",
              "2   3  2010      1    1     2    NaN   -21 -11.0  1019.0   NW   6.71   0   0\n",
              "3   4  2010      1    1     3    NaN   -21 -14.0  1019.0   NW   9.84   0   0\n",
              "4   5  2010      1    1     4    NaN   -20 -12.0  1018.0   NW  12.97   0   0"
            ]
          },
          "metadata": {
            "tags": []
          },
          "execution_count": 5
        }
      ]
    },
    {
      "cell_type": "code",
      "metadata": {
        "id": "tkyKxCUTRRr6",
        "colab_type": "code",
        "colab": {
          "base_uri": "https://localhost:8080/",
          "height": 255
        },
        "outputId": "a64dfd34-7769-484e-ee59-dc12d577f5c2"
      },
      "source": [
        "dataset.dtypes"
      ],
      "execution_count": 6,
      "outputs": [
        {
          "output_type": "execute_result",
          "data": {
            "text/plain": [
              "No         int64\n",
              "year       int64\n",
              "month      int64\n",
              "day        int64\n",
              "hour       int64\n",
              "pm2.5    float64\n",
              "DEWP       int64\n",
              "TEMP     float64\n",
              "PRES     float64\n",
              "cbwd      object\n",
              "Iws      float64\n",
              "Is         int64\n",
              "Ir         int64\n",
              "dtype: object"
            ]
          },
          "metadata": {
            "tags": []
          },
          "execution_count": 6
        }
      ]
    },
    {
      "cell_type": "code",
      "metadata": {
        "id": "TXGdQz0pRVIu",
        "colab_type": "code",
        "colab": {
          "base_uri": "https://localhost:8080/",
          "height": 119
        },
        "outputId": "ed465c07-3dee-4adf-ad2d-882f1113c0ee"
      },
      "source": [
        "dataset['date']=pd.to_datetime(dataset[['year','month','day','hour']],format=\"%y%m%d%h\")\n",
        "dataset['date'].head()"
      ],
      "execution_count": 7,
      "outputs": [
        {
          "output_type": "execute_result",
          "data": {
            "text/plain": [
              "0   2010-01-01 00:00:00\n",
              "1   2010-01-01 01:00:00\n",
              "2   2010-01-01 02:00:00\n",
              "3   2010-01-01 03:00:00\n",
              "4   2010-01-01 04:00:00\n",
              "Name: date, dtype: datetime64[ns]"
            ]
          },
          "metadata": {
            "tags": []
          },
          "execution_count": 7
        }
      ]
    },
    {
      "cell_type": "code",
      "metadata": {
        "id": "eUqU8lgZxqOo",
        "colab_type": "code",
        "colab": {}
      },
      "source": [
        "#df=dataset.copy()\n",
        "#df=df.iloc[24:,:]\n",
        "#df['pm2.5']=df['pm2.5'].fillna(df['pm2.5'].mean())\n",
        "#plt.plot(df.iloc[:24*7,5:6])\n",
        "#plt.title('Plot of 1st one week Pollution day(2-1-2010 to 8-1-2010) of  Data Set')\n",
        "#plt.xlabel('Time')\n",
        "#plt.ylabel('Pollution')\n",
        "#plt.show()   \n"
      ],
      "execution_count": 9,
      "outputs": []
    },
    {
      "cell_type": "code",
      "metadata": {
        "id": "-kJ2D9d-y3rq",
        "colab_type": "code",
        "colab": {
          "base_uri": "https://localhost:8080/",
          "height": 235
        },
        "outputId": "cd938033-0c3b-4d12-cff5-6e20cbf62c30"
      },
      "source": [
        "#print(dataset.dtypes)\n",
        "dataset.drop(['No','year','month','day','hour'],axis=1,inplace=True)\n",
        "\n",
        "dataset=dataset.set_index('date')\n",
        "dataset.columns = ['pollution', 'dew', 'temp', 'press', 'wnd_dir', 'wnd_spd', 'snow', 'rain']\n",
        "dataset.head()"
      ],
      "execution_count": null,
      "outputs": [
        {
          "output_type": "execute_result",
          "data": {
            "text/html": [
              "<div>\n",
              "<style scoped>\n",
              "    .dataframe tbody tr th:only-of-type {\n",
              "        vertical-align: middle;\n",
              "    }\n",
              "\n",
              "    .dataframe tbody tr th {\n",
              "        vertical-align: top;\n",
              "    }\n",
              "\n",
              "    .dataframe thead th {\n",
              "        text-align: right;\n",
              "    }\n",
              "</style>\n",
              "<table border=\"1\" class=\"dataframe\">\n",
              "  <thead>\n",
              "    <tr style=\"text-align: right;\">\n",
              "      <th></th>\n",
              "      <th>pollution</th>\n",
              "      <th>dew</th>\n",
              "      <th>temp</th>\n",
              "      <th>press</th>\n",
              "      <th>wnd_dir</th>\n",
              "      <th>wnd_spd</th>\n",
              "      <th>snow</th>\n",
              "      <th>rain</th>\n",
              "    </tr>\n",
              "    <tr>\n",
              "      <th>date</th>\n",
              "      <th></th>\n",
              "      <th></th>\n",
              "      <th></th>\n",
              "      <th></th>\n",
              "      <th></th>\n",
              "      <th></th>\n",
              "      <th></th>\n",
              "      <th></th>\n",
              "    </tr>\n",
              "  </thead>\n",
              "  <tbody>\n",
              "    <tr>\n",
              "      <th>2010-01-01 00:00:00</th>\n",
              "      <td>NaN</td>\n",
              "      <td>-21</td>\n",
              "      <td>-11.0</td>\n",
              "      <td>1021.0</td>\n",
              "      <td>NW</td>\n",
              "      <td>1.79</td>\n",
              "      <td>0</td>\n",
              "      <td>0</td>\n",
              "    </tr>\n",
              "    <tr>\n",
              "      <th>2010-01-01 01:00:00</th>\n",
              "      <td>NaN</td>\n",
              "      <td>-21</td>\n",
              "      <td>-12.0</td>\n",
              "      <td>1020.0</td>\n",
              "      <td>NW</td>\n",
              "      <td>4.92</td>\n",
              "      <td>0</td>\n",
              "      <td>0</td>\n",
              "    </tr>\n",
              "    <tr>\n",
              "      <th>2010-01-01 02:00:00</th>\n",
              "      <td>NaN</td>\n",
              "      <td>-21</td>\n",
              "      <td>-11.0</td>\n",
              "      <td>1019.0</td>\n",
              "      <td>NW</td>\n",
              "      <td>6.71</td>\n",
              "      <td>0</td>\n",
              "      <td>0</td>\n",
              "    </tr>\n",
              "    <tr>\n",
              "      <th>2010-01-01 03:00:00</th>\n",
              "      <td>NaN</td>\n",
              "      <td>-21</td>\n",
              "      <td>-14.0</td>\n",
              "      <td>1019.0</td>\n",
              "      <td>NW</td>\n",
              "      <td>9.84</td>\n",
              "      <td>0</td>\n",
              "      <td>0</td>\n",
              "    </tr>\n",
              "    <tr>\n",
              "      <th>2010-01-01 04:00:00</th>\n",
              "      <td>NaN</td>\n",
              "      <td>-20</td>\n",
              "      <td>-12.0</td>\n",
              "      <td>1018.0</td>\n",
              "      <td>NW</td>\n",
              "      <td>12.97</td>\n",
              "      <td>0</td>\n",
              "      <td>0</td>\n",
              "    </tr>\n",
              "  </tbody>\n",
              "</table>\n",
              "</div>"
            ],
            "text/plain": [
              "                     pollution  dew  temp   press wnd_dir  wnd_spd  snow  rain\n",
              "date                                                                          \n",
              "2010-01-01 00:00:00        NaN  -21 -11.0  1021.0      NW     1.79     0     0\n",
              "2010-01-01 01:00:00        NaN  -21 -12.0  1020.0      NW     4.92     0     0\n",
              "2010-01-01 02:00:00        NaN  -21 -11.0  1019.0      NW     6.71     0     0\n",
              "2010-01-01 03:00:00        NaN  -21 -14.0  1019.0      NW     9.84     0     0\n",
              "2010-01-01 04:00:00        NaN  -20 -12.0  1018.0      NW    12.97     0     0"
            ]
          },
          "metadata": {
            "tags": []
          },
          "execution_count": 7
        }
      ]
    },
    {
      "cell_type": "code",
      "metadata": {
        "id": "AS8ve35uzHsX",
        "colab_type": "code",
        "colab": {
          "base_uri": "https://localhost:8080/",
          "height": 34
        },
        "outputId": "7342b71b-0a38-42cb-c72b-fb51af8a4f65"
      },
      "source": [
        "dataset.shape"
      ],
      "execution_count": null,
      "outputs": [
        {
          "output_type": "execute_result",
          "data": {
            "text/plain": [
              "(43824, 8)"
            ]
          },
          "metadata": {
            "tags": []
          },
          "execution_count": 8
        }
      ]
    },
    {
      "cell_type": "code",
      "metadata": {
        "id": "pQ22iPg5zOxV",
        "colab_type": "code",
        "colab": {
          "base_uri": "https://localhost:8080/",
          "height": 235
        },
        "outputId": "a6225cd2-075c-4d86-869e-671ab5e0de4b"
      },
      "source": [
        "dataset=dataset.iloc[24:,:]\n",
        "dataset.head()"
      ],
      "execution_count": null,
      "outputs": [
        {
          "output_type": "execute_result",
          "data": {
            "text/html": [
              "<div>\n",
              "<style scoped>\n",
              "    .dataframe tbody tr th:only-of-type {\n",
              "        vertical-align: middle;\n",
              "    }\n",
              "\n",
              "    .dataframe tbody tr th {\n",
              "        vertical-align: top;\n",
              "    }\n",
              "\n",
              "    .dataframe thead th {\n",
              "        text-align: right;\n",
              "    }\n",
              "</style>\n",
              "<table border=\"1\" class=\"dataframe\">\n",
              "  <thead>\n",
              "    <tr style=\"text-align: right;\">\n",
              "      <th></th>\n",
              "      <th>pollution</th>\n",
              "      <th>dew</th>\n",
              "      <th>temp</th>\n",
              "      <th>press</th>\n",
              "      <th>wnd_dir</th>\n",
              "      <th>wnd_spd</th>\n",
              "      <th>snow</th>\n",
              "      <th>rain</th>\n",
              "    </tr>\n",
              "    <tr>\n",
              "      <th>date</th>\n",
              "      <th></th>\n",
              "      <th></th>\n",
              "      <th></th>\n",
              "      <th></th>\n",
              "      <th></th>\n",
              "      <th></th>\n",
              "      <th></th>\n",
              "      <th></th>\n",
              "    </tr>\n",
              "  </thead>\n",
              "  <tbody>\n",
              "    <tr>\n",
              "      <th>2010-01-02 00:00:00</th>\n",
              "      <td>129.0</td>\n",
              "      <td>-16</td>\n",
              "      <td>-4.0</td>\n",
              "      <td>1020.0</td>\n",
              "      <td>SE</td>\n",
              "      <td>1.79</td>\n",
              "      <td>0</td>\n",
              "      <td>0</td>\n",
              "    </tr>\n",
              "    <tr>\n",
              "      <th>2010-01-02 01:00:00</th>\n",
              "      <td>148.0</td>\n",
              "      <td>-15</td>\n",
              "      <td>-4.0</td>\n",
              "      <td>1020.0</td>\n",
              "      <td>SE</td>\n",
              "      <td>2.68</td>\n",
              "      <td>0</td>\n",
              "      <td>0</td>\n",
              "    </tr>\n",
              "    <tr>\n",
              "      <th>2010-01-02 02:00:00</th>\n",
              "      <td>159.0</td>\n",
              "      <td>-11</td>\n",
              "      <td>-5.0</td>\n",
              "      <td>1021.0</td>\n",
              "      <td>SE</td>\n",
              "      <td>3.57</td>\n",
              "      <td>0</td>\n",
              "      <td>0</td>\n",
              "    </tr>\n",
              "    <tr>\n",
              "      <th>2010-01-02 03:00:00</th>\n",
              "      <td>181.0</td>\n",
              "      <td>-7</td>\n",
              "      <td>-5.0</td>\n",
              "      <td>1022.0</td>\n",
              "      <td>SE</td>\n",
              "      <td>5.36</td>\n",
              "      <td>1</td>\n",
              "      <td>0</td>\n",
              "    </tr>\n",
              "    <tr>\n",
              "      <th>2010-01-02 04:00:00</th>\n",
              "      <td>138.0</td>\n",
              "      <td>-7</td>\n",
              "      <td>-5.0</td>\n",
              "      <td>1022.0</td>\n",
              "      <td>SE</td>\n",
              "      <td>6.25</td>\n",
              "      <td>2</td>\n",
              "      <td>0</td>\n",
              "    </tr>\n",
              "  </tbody>\n",
              "</table>\n",
              "</div>"
            ],
            "text/plain": [
              "                     pollution  dew  temp   press wnd_dir  wnd_spd  snow  rain\n",
              "date                                                                          \n",
              "2010-01-02 00:00:00      129.0  -16  -4.0  1020.0      SE     1.79     0     0\n",
              "2010-01-02 01:00:00      148.0  -15  -4.0  1020.0      SE     2.68     0     0\n",
              "2010-01-02 02:00:00      159.0  -11  -5.0  1021.0      SE     3.57     0     0\n",
              "2010-01-02 03:00:00      181.0   -7  -5.0  1022.0      SE     5.36     1     0\n",
              "2010-01-02 04:00:00      138.0   -7  -5.0  1022.0      SE     6.25     2     0"
            ]
          },
          "metadata": {
            "tags": []
          },
          "execution_count": 9
        }
      ]
    },
    {
      "cell_type": "code",
      "metadata": {
        "id": "lwl3kU3E6T6k",
        "colab_type": "code",
        "colab": {
          "base_uri": "https://localhost:8080/",
          "height": 34
        },
        "outputId": "fef0b461-7918-4eb0-b81a-83008f86b8b4"
      },
      "source": [
        "dataset.shape"
      ],
      "execution_count": null,
      "outputs": [
        {
          "output_type": "execute_result",
          "data": {
            "text/plain": [
              "(43800, 8)"
            ]
          },
          "metadata": {
            "tags": []
          },
          "execution_count": 10
        }
      ]
    },
    {
      "cell_type": "code",
      "metadata": {
        "id": "FXoV5JkFzTML",
        "colab_type": "code",
        "colab": {
          "base_uri": "https://localhost:8080/",
          "height": 297
        },
        "outputId": "d4696f6e-3fa2-40ae-a76d-22ad5a298074"
      },
      "source": [
        "dataset.describe()"
      ],
      "execution_count": null,
      "outputs": [
        {
          "output_type": "execute_result",
          "data": {
            "text/html": [
              "<div>\n",
              "<style scoped>\n",
              "    .dataframe tbody tr th:only-of-type {\n",
              "        vertical-align: middle;\n",
              "    }\n",
              "\n",
              "    .dataframe tbody tr th {\n",
              "        vertical-align: top;\n",
              "    }\n",
              "\n",
              "    .dataframe thead th {\n",
              "        text-align: right;\n",
              "    }\n",
              "</style>\n",
              "<table border=\"1\" class=\"dataframe\">\n",
              "  <thead>\n",
              "    <tr style=\"text-align: right;\">\n",
              "      <th></th>\n",
              "      <th>pollution</th>\n",
              "      <th>dew</th>\n",
              "      <th>temp</th>\n",
              "      <th>press</th>\n",
              "      <th>wnd_spd</th>\n",
              "      <th>snow</th>\n",
              "      <th>rain</th>\n",
              "    </tr>\n",
              "  </thead>\n",
              "  <tbody>\n",
              "    <tr>\n",
              "      <th>count</th>\n",
              "      <td>41757.000000</td>\n",
              "      <td>43800.000000</td>\n",
              "      <td>43800.000000</td>\n",
              "      <td>43800.000000</td>\n",
              "      <td>43800.000000</td>\n",
              "      <td>43800.000000</td>\n",
              "      <td>43800.000000</td>\n",
              "    </tr>\n",
              "    <tr>\n",
              "      <th>mean</th>\n",
              "      <td>98.613215</td>\n",
              "      <td>1.828516</td>\n",
              "      <td>12.459041</td>\n",
              "      <td>1016.447306</td>\n",
              "      <td>23.894307</td>\n",
              "      <td>0.052763</td>\n",
              "      <td>0.195023</td>\n",
              "    </tr>\n",
              "    <tr>\n",
              "      <th>std</th>\n",
              "      <td>92.050387</td>\n",
              "      <td>14.429326</td>\n",
              "      <td>12.193384</td>\n",
              "      <td>10.271411</td>\n",
              "      <td>50.022729</td>\n",
              "      <td>0.760582</td>\n",
              "      <td>1.416247</td>\n",
              "    </tr>\n",
              "    <tr>\n",
              "      <th>min</th>\n",
              "      <td>0.000000</td>\n",
              "      <td>-40.000000</td>\n",
              "      <td>-19.000000</td>\n",
              "      <td>991.000000</td>\n",
              "      <td>0.450000</td>\n",
              "      <td>0.000000</td>\n",
              "      <td>0.000000</td>\n",
              "    </tr>\n",
              "    <tr>\n",
              "      <th>25%</th>\n",
              "      <td>29.000000</td>\n",
              "      <td>-10.000000</td>\n",
              "      <td>2.000000</td>\n",
              "      <td>1008.000000</td>\n",
              "      <td>1.790000</td>\n",
              "      <td>0.000000</td>\n",
              "      <td>0.000000</td>\n",
              "    </tr>\n",
              "    <tr>\n",
              "      <th>50%</th>\n",
              "      <td>72.000000</td>\n",
              "      <td>2.000000</td>\n",
              "      <td>14.000000</td>\n",
              "      <td>1016.000000</td>\n",
              "      <td>5.370000</td>\n",
              "      <td>0.000000</td>\n",
              "      <td>0.000000</td>\n",
              "    </tr>\n",
              "    <tr>\n",
              "      <th>75%</th>\n",
              "      <td>137.000000</td>\n",
              "      <td>15.000000</td>\n",
              "      <td>23.000000</td>\n",
              "      <td>1025.000000</td>\n",
              "      <td>21.910000</td>\n",
              "      <td>0.000000</td>\n",
              "      <td>0.000000</td>\n",
              "    </tr>\n",
              "    <tr>\n",
              "      <th>max</th>\n",
              "      <td>994.000000</td>\n",
              "      <td>28.000000</td>\n",
              "      <td>42.000000</td>\n",
              "      <td>1046.000000</td>\n",
              "      <td>585.600000</td>\n",
              "      <td>27.000000</td>\n",
              "      <td>36.000000</td>\n",
              "    </tr>\n",
              "  </tbody>\n",
              "</table>\n",
              "</div>"
            ],
            "text/plain": [
              "          pollution           dew  ...          snow          rain\n",
              "count  41757.000000  43800.000000  ...  43800.000000  43800.000000\n",
              "mean      98.613215      1.828516  ...      0.052763      0.195023\n",
              "std       92.050387     14.429326  ...      0.760582      1.416247\n",
              "min        0.000000    -40.000000  ...      0.000000      0.000000\n",
              "25%       29.000000    -10.000000  ...      0.000000      0.000000\n",
              "50%       72.000000      2.000000  ...      0.000000      0.000000\n",
              "75%      137.000000     15.000000  ...      0.000000      0.000000\n",
              "max      994.000000     28.000000  ...     27.000000     36.000000\n",
              "\n",
              "[8 rows x 7 columns]"
            ]
          },
          "metadata": {
            "tags": []
          },
          "execution_count": 11
        }
      ]
    },
    {
      "cell_type": "code",
      "metadata": {
        "id": "Hy9ILRDyzpih",
        "colab_type": "code",
        "colab": {
          "base_uri": "https://localhost:8080/",
          "height": 272
        },
        "outputId": "534afbb0-fd8d-458a-ab36-2fe341a20739"
      },
      "source": [
        "dataset.info()"
      ],
      "execution_count": null,
      "outputs": [
        {
          "output_type": "stream",
          "text": [
            "<class 'pandas.core.frame.DataFrame'>\n",
            "DatetimeIndex: 43800 entries, 2010-01-02 00:00:00 to 2014-12-31 23:00:00\n",
            "Data columns (total 8 columns):\n",
            " #   Column     Non-Null Count  Dtype  \n",
            "---  ------     --------------  -----  \n",
            " 0   pollution  41757 non-null  float64\n",
            " 1   dew        43800 non-null  int64  \n",
            " 2   temp       43800 non-null  float64\n",
            " 3   press      43800 non-null  float64\n",
            " 4   wnd_dir    43800 non-null  object \n",
            " 5   wnd_spd    43800 non-null  float64\n",
            " 6   snow       43800 non-null  int64  \n",
            " 7   rain       43800 non-null  int64  \n",
            "dtypes: float64(4), int64(3), object(1)\n",
            "memory usage: 3.0+ MB\n"
          ],
          "name": "stdout"
        }
      ]
    },
    {
      "cell_type": "code",
      "metadata": {
        "id": "ZKsyoC1Nz248",
        "colab_type": "code",
        "colab": {
          "base_uri": "https://localhost:8080/",
          "height": 323
        },
        "outputId": "6f228667-5a3f-48ba-e024-af550261aae7"
      },
      "source": [
        "#check if any NaN Value present or Not\n",
        "print(dataset.isnull().any())\n",
        "dataset.isnull().sum()"
      ],
      "execution_count": null,
      "outputs": [
        {
          "output_type": "stream",
          "text": [
            "pollution     True\n",
            "dew          False\n",
            "temp         False\n",
            "press        False\n",
            "wnd_dir      False\n",
            "wnd_spd      False\n",
            "snow         False\n",
            "rain         False\n",
            "dtype: bool\n"
          ],
          "name": "stdout"
        },
        {
          "output_type": "execute_result",
          "data": {
            "text/plain": [
              "pollution    2043\n",
              "dew             0\n",
              "temp            0\n",
              "press           0\n",
              "wnd_dir         0\n",
              "wnd_spd         0\n",
              "snow            0\n",
              "rain            0\n",
              "dtype: int64"
            ]
          },
          "metadata": {
            "tags": []
          },
          "execution_count": 13
        }
      ]
    },
    {
      "cell_type": "code",
      "metadata": {
        "id": "RQ4jdBLN0Bkw",
        "colab_type": "code",
        "colab": {}
      },
      "source": [
        "#fill the NaN value with the mean\n",
        "dataset['pollution']=dataset['pollution'].fillna(dataset['pollution'].mean())"
      ],
      "execution_count": null,
      "outputs": []
    },
    {
      "cell_type": "code",
      "metadata": {
        "id": "kCG6bvNo0QzB",
        "colab_type": "code",
        "colab": {
          "base_uri": "https://localhost:8080/",
          "height": 323
        },
        "outputId": "d8fa74f1-4893-4034-bd3a-d414119291e4"
      },
      "source": [
        "#check if any NaN Value present or Not\n",
        "print(dataset.isnull().any())\n",
        "dataset.isnull().sum()"
      ],
      "execution_count": null,
      "outputs": [
        {
          "output_type": "stream",
          "text": [
            "pollution    False\n",
            "dew          False\n",
            "temp         False\n",
            "press        False\n",
            "wnd_dir      False\n",
            "wnd_spd      False\n",
            "snow         False\n",
            "rain         False\n",
            "dtype: bool\n"
          ],
          "name": "stdout"
        },
        {
          "output_type": "execute_result",
          "data": {
            "text/plain": [
              "pollution    0\n",
              "dew          0\n",
              "temp         0\n",
              "press        0\n",
              "wnd_dir      0\n",
              "wnd_spd      0\n",
              "snow         0\n",
              "rain         0\n",
              "dtype: int64"
            ]
          },
          "metadata": {
            "tags": []
          },
          "execution_count": 15
        }
      ]
    },
    {
      "cell_type": "code",
      "metadata": {
        "id": "kSkS3mE00diN",
        "colab_type": "code",
        "colab": {
          "base_uri": "https://localhost:8080/",
          "height": 295
        },
        "outputId": "3bd6eccb-d200-426e-f10f-8e263d0a90d2"
      },
      "source": [
        "#plot the whole dataset the Pollution Column\n",
        "plt.plot(dataset.iloc[:,0:1])\n",
        "plt.xlabel('Time')\n",
        "plt.ylabel('Pollution')\n",
        "plt.title('Pollution vs Time')\n",
        "plt.show()"
      ],
      "execution_count": null,
      "outputs": [
        {
          "output_type": "display_data",
          "data": {
            "image/png": "[encoded data removed]",
            "text/plain": [
              "<Figure size 432x288 with 1 Axes>"
            ]
          },
          "metadata": {
            "tags": [],
            "needs_background": "light"
          }
        }
      ]
    },
    {
      "cell_type": "code",
      "metadata": {
        "id": "mR7qLnXvpBq1",
        "colab_type": "code",
        "colab": {
          "base_uri": "https://localhost:8080/",
          "height": 295
        },
        "outputId": "bba1bb6f-5565-48d3-8264-ba77e6d3bbd3"
      },
      "source": [
        "plt.plot(dataset.iloc[:24*7,0:1])\n",
        "plt.title('Plot of 1st one week Pollution day(2-1-2010 to 8-1-2010) of  Data Set')\n",
        "plt.xlabel('Time')\n",
        "plt.ylabel('Pollution')\n",
        "plt.show()"
      ],
      "execution_count": null,
      "outputs": [
        {
          "output_type": "display_data",
          "data": {
            "image/png": "[encoded data removed]",
            "text/plain": [
              "<Figure size 432x288 with 1 Axes>"
            ]
          },
          "metadata": {
            "tags": [],
            "needs_background": "light"
          }
        }
      ]
    },
    {
      "cell_type": "code",
      "metadata": {
        "id": "VWHgDNPr01E_",
        "colab_type": "code",
        "colab": {
          "base_uri": "https://localhost:8080/",
          "height": 284
        },
        "outputId": "e28f49b3-5ec5-4c23-f136-5fe58269e95d"
      },
      "source": [
        "#check How many cataegory present in wnd_dir collumn\n",
        "sns.countplot(x=\"wnd_dir\",data=dataset)\n",
        "plt.show()"
      ],
      "execution_count": null,
      "outputs": [
        {
          "output_type": "display_data",
          "data": {
            "image/png": "[encoded data removed]",
            "text/plain": [
              "<Figure size 432x288 with 1 Axes>"
            ]
          },
          "metadata": {
            "tags": [],
            "needs_background": "light"
          }
        }
      ]
    },
    {
      "cell_type": "code",
      "metadata": {
        "id": "-dyQpCZH1--R",
        "colab_type": "code",
        "colab": {
          "base_uri": "https://localhost:8080/",
          "height": 252
        },
        "outputId": "1f36fac8-ca4b-43cb-8bbc-2d30d68db5f5"
      },
      "source": [
        "# encoded the categorical value\n",
        "encoder=LabelEncoder()\n",
        "dataset.iloc[:,4]=encoder.fit_transform(dataset.iloc[:,4])\n",
        "print(type(dataset))\n",
        "dataset.head()"
      ],
      "execution_count": null,
      "outputs": [
        {
          "output_type": "stream",
          "text": [
            "<class 'pandas.core.frame.DataFrame'>\n"
          ],
          "name": "stdout"
        },
        {
          "output_type": "execute_result",
          "data": {
            "text/html": [
              "<div>\n",
              "<style scoped>\n",
              "    .dataframe tbody tr th:only-of-type {\n",
              "        vertical-align: middle;\n",
              "    }\n",
              "\n",
              "    .dataframe tbody tr th {\n",
              "        vertical-align: top;\n",
              "    }\n",
              "\n",
              "    .dataframe thead th {\n",
              "        text-align: right;\n",
              "    }\n",
              "</style>\n",
              "<table border=\"1\" class=\"dataframe\">\n",
              "  <thead>\n",
              "    <tr style=\"text-align: right;\">\n",
              "      <th></th>\n",
              "      <th>pollution</th>\n",
              "      <th>dew</th>\n",
              "      <th>temp</th>\n",
              "      <th>press</th>\n",
              "      <th>wnd_dir</th>\n",
              "      <th>wnd_spd</th>\n",
              "      <th>snow</th>\n",
              "      <th>rain</th>\n",
              "    </tr>\n",
              "    <tr>\n",
              "      <th>date</th>\n",
              "      <th></th>\n",
              "      <th></th>\n",
              "      <th></th>\n",
              "      <th></th>\n",
              "      <th></th>\n",
              "      <th></th>\n",
              "      <th></th>\n",
              "      <th></th>\n",
              "    </tr>\n",
              "  </thead>\n",
              "  <tbody>\n",
              "    <tr>\n",
              "      <th>2010-01-02 00:00:00</th>\n",
              "      <td>129.0</td>\n",
              "      <td>-16</td>\n",
              "      <td>-4.0</td>\n",
              "      <td>1020.0</td>\n",
              "      <td>2</td>\n",
              "      <td>1.79</td>\n",
              "      <td>0</td>\n",
              "      <td>0</td>\n",
              "    </tr>\n",
              "    <tr>\n",
              "      <th>2010-01-02 01:00:00</th>\n",
              "      <td>148.0</td>\n",
              "      <td>-15</td>\n",
              "      <td>-4.0</td>\n",
              "      <td>1020.0</td>\n",
              "      <td>2</td>\n",
              "      <td>2.68</td>\n",
              "      <td>0</td>\n",
              "      <td>0</td>\n",
              "    </tr>\n",
              "    <tr>\n",
              "      <th>2010-01-02 02:00:00</th>\n",
              "      <td>159.0</td>\n",
              "      <td>-11</td>\n",
              "      <td>-5.0</td>\n",
              "      <td>1021.0</td>\n",
              "      <td>2</td>\n",
              "      <td>3.57</td>\n",
              "      <td>0</td>\n",
              "      <td>0</td>\n",
              "    </tr>\n",
              "    <tr>\n",
              "      <th>2010-01-02 03:00:00</th>\n",
              "      <td>181.0</td>\n",
              "      <td>-7</td>\n",
              "      <td>-5.0</td>\n",
              "      <td>1022.0</td>\n",
              "      <td>2</td>\n",
              "      <td>5.36</td>\n",
              "      <td>1</td>\n",
              "      <td>0</td>\n",
              "    </tr>\n",
              "    <tr>\n",
              "      <th>2010-01-02 04:00:00</th>\n",
              "      <td>138.0</td>\n",
              "      <td>-7</td>\n",
              "      <td>-5.0</td>\n",
              "      <td>1022.0</td>\n",
              "      <td>2</td>\n",
              "      <td>6.25</td>\n",
              "      <td>2</td>\n",
              "      <td>0</td>\n",
              "    </tr>\n",
              "  </tbody>\n",
              "</table>\n",
              "</div>"
            ],
            "text/plain": [
              "                     pollution  dew  temp   press  wnd_dir  wnd_spd  snow  rain\n",
              "date                                                                           \n",
              "2010-01-02 00:00:00      129.0  -16  -4.0  1020.0        2     1.79     0     0\n",
              "2010-01-02 01:00:00      148.0  -15  -4.0  1020.0        2     2.68     0     0\n",
              "2010-01-02 02:00:00      159.0  -11  -5.0  1021.0        2     3.57     0     0\n",
              "2010-01-02 03:00:00      181.0   -7  -5.0  1022.0        2     5.36     1     0\n",
              "2010-01-02 04:00:00      138.0   -7  -5.0  1022.0        2     6.25     2     0"
            ]
          },
          "metadata": {
            "tags": []
          },
          "execution_count": 18
        }
      ]
    },
    {
      "cell_type": "code",
      "metadata": {
        "id": "X6hBpLWE2yWI",
        "colab_type": "code",
        "colab": {
          "base_uri": "https://localhost:8080/",
          "height": 303
        },
        "outputId": "3454651c-1877-489d-b5d2-66cf6db2d8c0"
      },
      "source": [
        "#perform corelation matrix\n",
        "corrMatrix=dataset.corr()\n",
        "sns.heatmap(corrMatrix, annot=True)\n",
        "plt.show()"
      ],
      "execution_count": null,
      "outputs": [
        {
          "output_type": "display_data",
          "data": {
            "image/png": "[encoded data removed]",
            "text/plain": [
              "<Figure size 432x288 with 2 Axes>"
            ]
          },
          "metadata": {
            "tags": [],
            "needs_background": "light"
          }
        }
      ]
    },
    {
      "cell_type": "code",
      "metadata": {
        "id": "1Wqfaj1w3IWS",
        "colab_type": "code",
        "colab": {}
      },
      "source": [
        "dataset=dataset.astype('float32')"
      ],
      "execution_count": null,
      "outputs": []
    },
    {
      "cell_type": "code",
      "metadata": {
        "id": "3q66LlZk3Qd3",
        "colab_type": "code",
        "colab": {
          "base_uri": "https://localhost:8080/",
          "height": 235
        },
        "outputId": "377e1b6c-7392-4013-b6e7-c0188bb77858"
      },
      "source": [
        "# Take only pollution , dew, wnd_dir,wnd_spd collumn\n",
        "#Drop the other collumn , As those collumn are no corelation with the pollution collumn \n",
        "dataset=dataset.iloc[:,[0,1,4,5]]\n",
        "dataset.head()"
      ],
      "execution_count": null,
      "outputs": [
        {
          "output_type": "execute_result",
          "data": {
            "text/html": [
              "<div>\n",
              "<style scoped>\n",
              "    .dataframe tbody tr th:only-of-type {\n",
              "        vertical-align: middle;\n",
              "    }\n",
              "\n",
              "    .dataframe tbody tr th {\n",
              "        vertical-align: top;\n",
              "    }\n",
              "\n",
              "    .dataframe thead th {\n",
              "        text-align: right;\n",
              "    }\n",
              "</style>\n",
              "<table border=\"1\" class=\"dataframe\">\n",
              "  <thead>\n",
              "    <tr style=\"text-align: right;\">\n",
              "      <th></th>\n",
              "      <th>pollution</th>\n",
              "      <th>dew</th>\n",
              "      <th>wnd_dir</th>\n",
              "      <th>wnd_spd</th>\n",
              "    </tr>\n",
              "    <tr>\n",
              "      <th>date</th>\n",
              "      <th></th>\n",
              "      <th></th>\n",
              "      <th></th>\n",
              "      <th></th>\n",
              "    </tr>\n",
              "  </thead>\n",
              "  <tbody>\n",
              "    <tr>\n",
              "      <th>2010-01-02 00:00:00</th>\n",
              "      <td>129.0</td>\n",
              "      <td>-16.0</td>\n",
              "      <td>2.0</td>\n",
              "      <td>1.79</td>\n",
              "    </tr>\n",
              "    <tr>\n",
              "      <th>2010-01-02 01:00:00</th>\n",
              "      <td>148.0</td>\n",
              "      <td>-15.0</td>\n",
              "      <td>2.0</td>\n",
              "      <td>2.68</td>\n",
              "    </tr>\n",
              "    <tr>\n",
              "      <th>2010-01-02 02:00:00</th>\n",
              "      <td>159.0</td>\n",
              "      <td>-11.0</td>\n",
              "      <td>2.0</td>\n",
              "      <td>3.57</td>\n",
              "    </tr>\n",
              "    <tr>\n",
              "      <th>2010-01-02 03:00:00</th>\n",
              "      <td>181.0</td>\n",
              "      <td>-7.0</td>\n",
              "      <td>2.0</td>\n",
              "      <td>5.36</td>\n",
              "    </tr>\n",
              "    <tr>\n",
              "      <th>2010-01-02 04:00:00</th>\n",
              "      <td>138.0</td>\n",
              "      <td>-7.0</td>\n",
              "      <td>2.0</td>\n",
              "      <td>6.25</td>\n",
              "    </tr>\n",
              "  </tbody>\n",
              "</table>\n",
              "</div>"
            ],
            "text/plain": [
              "                     pollution   dew  wnd_dir  wnd_spd\n",
              "date                                                  \n",
              "2010-01-02 00:00:00      129.0 -16.0      2.0     1.79\n",
              "2010-01-02 01:00:00      148.0 -15.0      2.0     2.68\n",
              "2010-01-02 02:00:00      159.0 -11.0      2.0     3.57\n",
              "2010-01-02 03:00:00      181.0  -7.0      2.0     5.36\n",
              "2010-01-02 04:00:00      138.0  -7.0      2.0     6.25"
            ]
          },
          "metadata": {
            "tags": []
          },
          "execution_count": 21
        }
      ]
    },
    {
      "cell_type": "code",
      "metadata": {
        "id": "OTz_p9Bn4GFW",
        "colab_type": "code",
        "colab": {
          "base_uri": "https://localhost:8080/",
          "height": 51
        },
        "outputId": "ba934cb1-ff71-4477-b0f6-83b5cef8752e"
      },
      "source": [
        "#perform OneHotEncoding for dummy variable\n",
        "df=dataset.copy()\n",
        "transformer = ColumnTransformer([('one_hot_encoder', OneHotEncoder(), [2])],remainder='passthrough')\n",
        "df = np.array(transformer.fit_transform(df), dtype=np.float)\n",
        "print(df.shape)\n",
        "#avoiding dummy variable trap\n",
        "df=df[:,1:]\n",
        "df.shape"
      ],
      "execution_count": null,
      "outputs": [
        {
          "output_type": "stream",
          "text": [
            "(43800, 7)\n"
          ],
          "name": "stdout"
        },
        {
          "output_type": "execute_result",
          "data": {
            "text/plain": [
              "(43800, 6)"
            ]
          },
          "metadata": {
            "tags": []
          },
          "execution_count": 22
        }
      ]
    },
    {
      "cell_type": "code",
      "metadata": {
        "id": "cY6TXyfr5JJ1",
        "colab_type": "code",
        "colab": {
          "base_uri": "https://localhost:8080/",
          "height": 85
        },
        "outputId": "dd762332-c5bf-406c-cb6e-3b6502ff07ee"
      },
      "source": [
        "df[:2,:]"
      ],
      "execution_count": null,
      "outputs": [
        {
          "output_type": "execute_result",
          "data": {
            "text/plain": [
              "array([[  0.        ,   1.        ,   0.        , 129.        ,\n",
              "        -16.        ,   1.78999996],\n",
              "       [  0.        ,   1.        ,   0.        , 148.        ,\n",
              "        -15.        ,   2.68000007]])"
            ]
          },
          "metadata": {
            "tags": []
          },
          "execution_count": 23
        }
      ]
    },
    {
      "cell_type": "code",
      "metadata": {
        "id": "sDaIV7Hm5QpI",
        "colab_type": "code",
        "colab": {
          "base_uri": "https://localhost:8080/",
          "height": 34
        },
        "outputId": "82dd0a06-c8e6-462d-f88e-01dfa6e56d86"
      },
      "source": [
        "#perform Normalization\n",
        "sc=MinMaxScaler(feature_range=(0,1))\n",
        "data_set_scaled=sc.fit_transform(df)\n",
        "type(data_set_scaled)"
      ],
      "execution_count": null,
      "outputs": [
        {
          "output_type": "execute_result",
          "data": {
            "text/plain": [
              "numpy.ndarray"
            ]
          },
          "metadata": {
            "tags": []
          },
          "execution_count": 24
        }
      ]
    },
    {
      "cell_type": "code",
      "metadata": {
        "id": "_BG78XN75kwm",
        "colab_type": "code",
        "colab": {}
      },
      "source": [
        "#Divided whole dataset into train and test\n",
        "# 1st 4th year data for training \n",
        "#last year data for testing\n",
        "x=len(dataset)-365*24\n",
        "train_scaled=data_set_scaled[:x,:]\n",
        "test_scaled=data_set_scaled[x:,3:4]"
      ],
      "execution_count": null,
      "outputs": []
    },
    {
      "cell_type": "code",
      "metadata": {
        "id": "01uTtQhv55xb",
        "colab_type": "code",
        "colab": {
          "base_uri": "https://localhost:8080/",
          "height": 153
        },
        "outputId": "7ba0eaf7-ec9e-4d0b-986e-0ba70dc74f1a"
      },
      "source": [
        "print(train_scaled)\n",
        "(test_scaled.shape)"
      ],
      "execution_count": null,
      "outputs": [
        {
          "output_type": "stream",
          "text": [
            "[[0.         1.         0.         0.12977867 0.35294118 0.00229001]\n",
            " [0.         1.         0.         0.14889336 0.36764706 0.00381099]\n",
            " [0.         1.         0.         0.15995976 0.42647059 0.00533197]\n",
            " ...\n",
            " [1.         0.         0.         0.02313883 0.27941176 0.21387679]\n",
            " [1.         0.         0.         0.02012072 0.27941176 0.2222849 ]\n",
            " [1.         0.         0.         0.02313883 0.29411765 0.23450398]]\n"
          ],
          "name": "stdout"
        },
        {
          "output_type": "execute_result",
          "data": {
            "text/plain": [
              "(8760, 1)"
            ]
          },
          "metadata": {
            "tags": []
          },
          "execution_count": 26
        }
      ]
    },
    {
      "cell_type": "code",
      "metadata": {
        "id": "XDUki1NA6BcQ",
        "colab_type": "code",
        "colab": {}
      },
      "source": [
        "#funcition for converting our own Sequence dataset for training\n",
        "#I take previous 24 hour data for dependent variable and next 1 hour data  for Independent variable\n",
        "# t-24 to t hour data for X_train and t+1 hour data for y_train\n",
        "\n",
        "\n",
        "def Series_to_Supervised(train_scaled):\n",
        "    X_train=[]\n",
        "    y_train=[]\n",
        "    for i in range(24,len(train_scaled)):\n",
        "        X_train.append(train_scaled[i-24:i,:])\n",
        "        y_train.append(train_scaled[i,3:4])\n",
        "    return X_train,y_train"
      ],
      "execution_count": null,
      "outputs": []
    },
    {
      "cell_type": "code",
      "metadata": {
        "id": "e5V3shH36Ryv",
        "colab_type": "code",
        "colab": {
          "base_uri": "https://localhost:8080/",
          "height": 34
        },
        "outputId": "c6596eab-200a-4f69-9473-47cb36229685"
      },
      "source": [
        "#function calling\n",
        "X_train,y_train=Series_to_Supervised(train_scaled)\n",
        "type(X_train)"
      ],
      "execution_count": null,
      "outputs": [
        {
          "output_type": "execute_result",
          "data": {
            "text/plain": [
              "list"
            ]
          },
          "metadata": {
            "tags": []
          },
          "execution_count": 28
        }
      ]
    },
    {
      "cell_type": "code",
      "metadata": {
        "id": "iOW_iony6dB9",
        "colab_type": "code",
        "colab": {}
      },
      "source": [
        "#function for testing \n",
        "def Series_to_Supervised_for_Testing(data_set_scaled):\n",
        "  X_test_check=data_set_scaled[len(train_scaled)-24:,:]\n",
        "  X_test=[]\n",
        "  for i in range(24,len(X_test_check)):\n",
        "    X_test.append(X_test_check[i-24:i,:])\n",
        "  return X_test"
      ],
      "execution_count": null,
      "outputs": []
    },
    {
      "cell_type": "code",
      "metadata": {
        "id": "gIJtvGep6wSM",
        "colab_type": "code",
        "colab": {
          "base_uri": "https://localhost:8080/",
          "height": 34
        },
        "outputId": "95d5e617-3b9e-4b40-dfc4-9efba0e1c8e1"
      },
      "source": [
        "#function calling\n",
        "X_test=Series_to_Supervised_for_Testing(data_set_scaled)\n",
        "type(X_test)"
      ],
      "execution_count": null,
      "outputs": [
        {
          "output_type": "execute_result",
          "data": {
            "text/plain": [
              "list"
            ]
          },
          "metadata": {
            "tags": []
          },
          "execution_count": 30
        }
      ]
    },
    {
      "cell_type": "code",
      "metadata": {
        "id": "e8LgahAC69I1",
        "colab_type": "code",
        "colab": {}
      },
      "source": [
        "#converting list to array\n",
        "X_train,y_train=np.array(X_train),np.array(y_train)\n",
        "X_test=np.array(X_test)"
      ],
      "execution_count": null,
      "outputs": []
    },
    {
      "cell_type": "code",
      "metadata": {
        "id": "_JlyF6Dr7I2z",
        "colab_type": "code",
        "colab": {
          "base_uri": "https://localhost:8080/",
          "height": 85
        },
        "outputId": "d03dd5f4-6316-4111-f15c-fe1cc16232e3"
      },
      "source": [
        "print('X_Traing Shape',X_train.shape)\n",
        "print('Y_Traing Shape',y_train.shape)\n",
        "print('X_Testing Shape',X_test.shape)\n",
        "print('Y_Testing Shape',test_scaled.shape)"
      ],
      "execution_count": null,
      "outputs": [
        {
          "output_type": "stream",
          "text": [
            "X_Traing Shape (35016, 24, 6)\n",
            "Y_Traing Shape (35016, 1)\n",
            "X_Testing Shape (8760, 24, 6)\n",
            "Y_Testing Shape (8760, 1)\n"
          ],
          "name": "stdout"
        }
      ]
    },
    {
      "cell_type": "code",
      "metadata": {
        "id": "Yvngxrwl7OJt",
        "colab_type": "code",
        "colab": {}
      },
      "source": [
        "#Initialize the RNN model\n",
        "regressor = Sequential()\n",
        "\n",
        "#1st LSTM layer with Dropout Regulaziation\n",
        "regressor.add(LSTM(units=100,return_sequences = True, input_shape = (X_train.shape[1], X_train.shape[2])))\n",
        "regressor.add(Dropout(0.3))\n",
        "\n",
        "#2nd  LSTM layer \n",
        "regressor.add(LSTM(units = 75,return_sequences = True))\n",
        "regressor.add(Dropout(0.25))\n",
        "\n",
        "#3rd  LSTM layer \n",
        "regressor.add(LSTM(units = 50, return_sequences = False))\n",
        "regressor.add(Dropout(0.2))\n",
        "\n",
        "#Output Layer\n",
        "regressor.add(Dense(units = 1))"
      ],
      "execution_count": null,
      "outputs": []
    },
    {
      "cell_type": "code",
      "metadata": {
        "id": "qpCVKnKL05Qm",
        "colab_type": "code",
        "colab": {
          "base_uri": "https://localhost:8080/",
          "height": 1000
        },
        "outputId": "8e28ce9c-cf1e-4135-dfce-adef3316ec97"
      },
      "source": [
        "#Compile the model \n",
        "regressor.compile(optimizer = 'RMSProp', loss = 'mean_squared_error')\n",
        "\n",
        "#fit the model\n",
        "history=regressor.fit(X_train, y_train, epochs = 100, batch_size = 72,validation_data=(X_test,test_scaled))"
      ],
      "execution_count": null,
      "outputs": [
        {
          "output_type": "stream",
          "text": [
            "Epoch 1/100\n",
            "487/487 [==============================] - 37s 76ms/step - loss: 0.0033 - val_loss: 0.0019\n",
            "Epoch 2/100\n",
            "487/487 [==============================] - 36s 74ms/step - loss: 0.0014 - val_loss: 9.6109e-04\n",
            "Epoch 3/100\n",
            "487/487 [==============================] - 36s 74ms/step - loss: 0.0011 - val_loss: 6.2827e-04\n",
            "Epoch 4/100\n",
            "487/487 [==============================] - 36s 74ms/step - loss: 9.3710e-04 - val_loss: 9.2575e-04\n",
            "Epoch 5/100\n",
            "487/487 [==============================] - 36s 75ms/step - loss: 8.8895e-04 - val_loss: 6.9692e-04\n",
            "Epoch 6/100\n",
            "487/487 [==============================] - 36s 74ms/step - loss: 8.8127e-04 - val_loss: 5.3798e-04\n",
            "Epoch 7/100\n",
            "487/487 [==============================] - 36s 74ms/step - loss: 8.3102e-04 - val_loss: 7.1480e-04\n",
            "Epoch 8/100\n",
            "487/487 [==============================] - 36s 75ms/step - loss: 8.3100e-04 - val_loss: 6.7216e-04\n",
            "Epoch 9/100\n",
            "487/487 [==============================] - 36s 74ms/step - loss: 7.9926e-04 - val_loss: 5.5098e-04\n",
            "Epoch 10/100\n",
            "487/487 [==============================] - 36s 74ms/step - loss: 7.8406e-04 - val_loss: 5.4731e-04\n",
            "Epoch 11/100\n",
            "487/487 [==============================] - 36s 75ms/step - loss: 7.8386e-04 - val_loss: 5.1458e-04\n",
            "Epoch 12/100\n",
            "487/487 [==============================] - 36s 75ms/step - loss: 7.7913e-04 - val_loss: 5.4841e-04\n",
            "Epoch 13/100\n",
            "487/487 [==============================] - 37s 75ms/step - loss: 7.5977e-04 - val_loss: 5.1545e-04\n",
            "Epoch 14/100\n",
            "487/487 [==============================] - 39s 81ms/step - loss: 7.5647e-04 - val_loss: 5.4826e-04\n",
            "Epoch 15/100\n",
            "487/487 [==============================] - 37s 75ms/step - loss: 7.4709e-04 - val_loss: 5.4729e-04\n",
            "Epoch 16/100\n",
            "487/487 [==============================] - 36s 75ms/step - loss: 7.4134e-04 - val_loss: 6.1881e-04\n",
            "Epoch 17/100\n",
            "487/487 [==============================] - 36s 75ms/step - loss: 7.5303e-04 - val_loss: 6.7427e-04\n",
            "Epoch 18/100\n",
            "487/487 [==============================] - 37s 75ms/step - loss: 7.3382e-04 - val_loss: 5.3462e-04\n",
            "Epoch 19/100\n",
            "487/487 [==============================] - 37s 75ms/step - loss: 7.3794e-04 - val_loss: 6.1638e-04\n",
            "Epoch 20/100\n",
            "487/487 [==============================] - 36s 75ms/step - loss: 7.2992e-04 - val_loss: 5.3731e-04\n",
            "Epoch 21/100\n",
            "487/487 [==============================] - 37s 75ms/step - loss: 7.2379e-04 - val_loss: 4.9470e-04\n",
            "Epoch 22/100\n",
            "487/487 [==============================] - 36s 74ms/step - loss: 7.2064e-04 - val_loss: 4.9923e-04\n",
            "Epoch 23/100\n",
            "487/487 [==============================] - 36s 74ms/step - loss: 7.2101e-04 - val_loss: 5.4903e-04\n",
            "Epoch 24/100\n",
            "487/487 [==============================] - 36s 75ms/step - loss: 7.1748e-04 - val_loss: 5.0714e-04\n",
            "Epoch 25/100\n",
            "487/487 [==============================] - 36s 75ms/step - loss: 7.1752e-04 - val_loss: 6.6761e-04\n",
            "Epoch 26/100\n",
            "487/487 [==============================] - 36s 74ms/step - loss: 7.1446e-04 - val_loss: 5.1361e-04\n",
            "Epoch 27/100\n",
            "487/487 [==============================] - 37s 76ms/step - loss: 7.1200e-04 - val_loss: 5.0623e-04\n",
            "Epoch 28/100\n",
            "487/487 [==============================] - 36s 75ms/step - loss: 7.1014e-04 - val_loss: 7.9709e-04\n",
            "Epoch 29/100\n",
            "487/487 [==============================] - 36s 74ms/step - loss: 7.1929e-04 - val_loss: 5.7091e-04\n",
            "Epoch 30/100\n",
            "487/487 [==============================] - 36s 74ms/step - loss: 7.0411e-04 - val_loss: 5.1987e-04\n",
            "Epoch 31/100\n",
            "487/487 [==============================] - 40s 82ms/step - loss: 6.9711e-04 - val_loss: 5.9494e-04\n",
            "Epoch 32/100\n",
            "487/487 [==============================] - 36s 75ms/step - loss: 7.0083e-04 - val_loss: 5.1982e-04\n",
            "Epoch 33/100\n",
            "487/487 [==============================] - 36s 74ms/step - loss: 6.9430e-04 - val_loss: 5.1894e-04\n",
            "Epoch 34/100\n",
            "487/487 [==============================] - 36s 74ms/step - loss: 6.9723e-04 - val_loss: 4.9568e-04\n",
            "Epoch 35/100\n",
            "487/487 [==============================] - 36s 74ms/step - loss: 6.9869e-04 - val_loss: 5.0422e-04\n",
            "Epoch 36/100\n",
            "487/487 [==============================] - 36s 74ms/step - loss: 6.9421e-04 - val_loss: 4.9568e-04\n",
            "Epoch 37/100\n",
            "487/487 [==============================] - 36s 75ms/step - loss: 6.8574e-04 - val_loss: 6.5760e-04\n",
            "Epoch 38/100\n",
            "487/487 [==============================] - 36s 75ms/step - loss: 6.9772e-04 - val_loss: 4.9507e-04\n",
            "Epoch 39/100\n",
            "487/487 [==============================] - 36s 74ms/step - loss: 6.8980e-04 - val_loss: 6.1623e-04\n",
            "Epoch 40/100\n",
            "487/487 [==============================] - 36s 74ms/step - loss: 6.9636e-04 - val_loss: 7.0773e-04\n",
            "Epoch 41/100\n",
            "487/487 [==============================] - 37s 75ms/step - loss: 6.7723e-04 - val_loss: 5.0037e-04\n",
            "Epoch 42/100\n",
            "487/487 [==============================] - 36s 74ms/step - loss: 6.8776e-04 - val_loss: 5.0537e-04\n",
            "Epoch 43/100\n",
            "487/487 [==============================] - 36s 75ms/step - loss: 6.8450e-04 - val_loss: 5.4352e-04\n",
            "Epoch 44/100\n",
            "487/487 [==============================] - 37s 75ms/step - loss: 6.8175e-04 - val_loss: 5.0588e-04\n",
            "Epoch 45/100\n",
            "487/487 [==============================] - 36s 75ms/step - loss: 6.8878e-04 - val_loss: 6.1471e-04\n",
            "Epoch 46/100\n",
            "487/487 [==============================] - 36s 75ms/step - loss: 6.7703e-04 - val_loss: 6.1450e-04\n",
            "Epoch 47/100\n",
            "487/487 [==============================] - 38s 78ms/step - loss: 6.7661e-04 - val_loss: 5.2671e-04\n",
            "Epoch 48/100\n",
            "487/487 [==============================] - 38s 79ms/step - loss: 6.7848e-04 - val_loss: 5.8216e-04\n",
            "Epoch 49/100\n",
            "487/487 [==============================] - 36s 75ms/step - loss: 6.7659e-04 - val_loss: 5.4689e-04\n",
            "Epoch 50/100\n",
            "487/487 [==============================] - 37s 75ms/step - loss: 6.7910e-04 - val_loss: 5.1976e-04\n",
            "Epoch 51/100\n",
            "487/487 [==============================] - 37s 76ms/step - loss: 6.8395e-04 - val_loss: 4.8695e-04\n",
            "Epoch 52/100\n",
            "487/487 [==============================] - 36s 75ms/step - loss: 6.6995e-04 - val_loss: 4.9896e-04\n",
            "Epoch 53/100\n",
            "487/487 [==============================] - 37s 76ms/step - loss: 6.7538e-04 - val_loss: 5.7035e-04\n",
            "Epoch 54/100\n",
            "487/487 [==============================] - 37s 75ms/step - loss: 6.7583e-04 - val_loss: 5.9010e-04\n",
            "Epoch 55/100\n",
            "487/487 [==============================] - 37s 76ms/step - loss: 6.7065e-04 - val_loss: 4.9570e-04\n",
            "Epoch 56/100\n",
            "487/487 [==============================] - 37s 75ms/step - loss: 6.7215e-04 - val_loss: 4.8911e-04\n",
            "Epoch 57/100\n",
            "487/487 [==============================] - 37s 76ms/step - loss: 6.7175e-04 - val_loss: 6.0863e-04\n",
            "Epoch 58/100\n",
            "487/487 [==============================] - 37s 75ms/step - loss: 6.6771e-04 - val_loss: 4.9779e-04\n",
            "Epoch 59/100\n",
            "487/487 [==============================] - 37s 76ms/step - loss: 6.7019e-04 - val_loss: 5.6034e-04\n",
            "Epoch 60/100\n",
            "487/487 [==============================] - 37s 75ms/step - loss: 6.6209e-04 - val_loss: 5.8637e-04\n",
            "Epoch 61/100\n",
            "487/487 [==============================] - 37s 76ms/step - loss: 6.5574e-04 - val_loss: 5.8035e-04\n",
            "Epoch 62/100\n",
            "487/487 [==============================] - 36s 74ms/step - loss: 6.5777e-04 - val_loss: 5.5821e-04\n",
            "Epoch 63/100\n",
            "487/487 [==============================] - 37s 76ms/step - loss: 6.6658e-04 - val_loss: 5.7759e-04\n",
            "Epoch 64/100\n",
            "487/487 [==============================] - 40s 82ms/step - loss: 6.7064e-04 - val_loss: 6.2160e-04\n",
            "Epoch 65/100\n",
            "487/487 [==============================] - 37s 75ms/step - loss: 6.5508e-04 - val_loss: 5.9535e-04\n",
            "Epoch 66/100\n",
            "487/487 [==============================] - 37s 75ms/step - loss: 6.6834e-04 - val_loss: 5.0416e-04\n",
            "Epoch 67/100\n",
            "487/487 [==============================] - 37s 76ms/step - loss: 6.6855e-04 - val_loss: 5.5127e-04\n",
            "Epoch 68/100\n",
            "487/487 [==============================] - 37s 75ms/step - loss: 6.6504e-04 - val_loss: 4.8609e-04\n",
            "Epoch 69/100\n",
            "487/487 [==============================] - 37s 75ms/step - loss: 6.5874e-04 - val_loss: 5.0417e-04\n",
            "Epoch 70/100\n",
            "487/487 [==============================] - 37s 76ms/step - loss: 6.6010e-04 - val_loss: 4.9429e-04\n",
            "Epoch 71/100\n",
            "487/487 [==============================] - 37s 76ms/step - loss: 6.5840e-04 - val_loss: 4.9737e-04\n",
            "Epoch 72/100\n",
            "487/487 [==============================] - 37s 75ms/step - loss: 6.5711e-04 - val_loss: 6.3579e-04\n",
            "Epoch 73/100\n",
            "487/487 [==============================] - 37s 76ms/step - loss: 6.6341e-04 - val_loss: 4.9363e-04\n",
            "Epoch 74/100\n",
            "487/487 [==============================] - 37s 75ms/step - loss: 6.6273e-04 - val_loss: 5.0720e-04\n",
            "Epoch 75/100\n",
            "487/487 [==============================] - 36s 75ms/step - loss: 6.5905e-04 - val_loss: 5.1812e-04\n",
            "Epoch 76/100\n",
            "487/487 [==============================] - 37s 75ms/step - loss: 6.5129e-04 - val_loss: 5.0799e-04\n",
            "Epoch 77/100\n",
            "487/487 [==============================] - 37s 75ms/step - loss: 6.5449e-04 - val_loss: 5.9673e-04\n",
            "Epoch 78/100\n",
            "487/487 [==============================] - 37s 76ms/step - loss: 6.4710e-04 - val_loss: 4.9755e-04\n",
            "Epoch 79/100\n",
            "487/487 [==============================] - 37s 76ms/step - loss: 6.4913e-04 - val_loss: 6.2047e-04\n",
            "Epoch 80/100\n",
            "487/487 [==============================] - 38s 78ms/step - loss: 6.4281e-04 - val_loss: 5.6564e-04\n",
            "Epoch 81/100\n",
            "487/487 [==============================] - 39s 80ms/step - loss: 6.4697e-04 - val_loss: 5.1435e-04\n",
            "Epoch 82/100\n",
            "487/487 [==============================] - 36s 75ms/step - loss: 6.4599e-04 - val_loss: 5.0824e-04\n",
            "Epoch 83/100\n",
            "487/487 [==============================] - 36s 75ms/step - loss: 6.4976e-04 - val_loss: 5.6918e-04\n",
            "Epoch 84/100\n",
            "487/487 [==============================] - 37s 76ms/step - loss: 6.5213e-04 - val_loss: 5.7768e-04\n",
            "Epoch 85/100\n",
            "487/487 [==============================] - 36s 74ms/step - loss: 6.5094e-04 - val_loss: 5.5378e-04\n",
            "Epoch 86/100\n",
            "487/487 [==============================] - 37s 76ms/step - loss: 6.4881e-04 - val_loss: 5.1146e-04\n",
            "Epoch 87/100\n",
            "487/487 [==============================] - 37s 76ms/step - loss: 6.4262e-04 - val_loss: 5.1274e-04\n",
            "Epoch 88/100\n",
            "487/487 [==============================] - 37s 76ms/step - loss: 6.3958e-04 - val_loss: 5.0420e-04\n",
            "Epoch 89/100\n",
            "487/487 [==============================] - 36s 75ms/step - loss: 6.3862e-04 - val_loss: 5.2449e-04\n",
            "Epoch 90/100\n",
            "487/487 [==============================] - 37s 76ms/step - loss: 6.4501e-04 - val_loss: 5.4432e-04\n",
            "Epoch 91/100\n",
            "487/487 [==============================] - 37s 75ms/step - loss: 6.3561e-04 - val_loss: 5.0030e-04\n",
            "Epoch 92/100\n",
            "487/487 [==============================] - 37s 75ms/step - loss: 6.5238e-04 - val_loss: 5.5750e-04\n",
            "Epoch 93/100\n",
            "487/487 [==============================] - 36s 75ms/step - loss: 6.3130e-04 - val_loss: 5.4177e-04\n",
            "Epoch 94/100\n",
            "487/487 [==============================] - 36s 75ms/step - loss: 6.3868e-04 - val_loss: 5.1935e-04\n",
            "Epoch 95/100\n",
            "487/487 [==============================] - 37s 75ms/step - loss: 6.3001e-04 - val_loss: 5.0416e-04\n",
            "Epoch 96/100\n",
            "487/487 [==============================] - 37s 75ms/step - loss: 6.2845e-04 - val_loss: 6.1273e-04\n",
            "Epoch 97/100\n",
            "487/487 [==============================] - 41s 84ms/step - loss: 6.2602e-04 - val_loss: 5.9145e-04\n",
            "Epoch 98/100\n",
            "487/487 [==============================] - 37s 75ms/step - loss: 6.3289e-04 - val_loss: 5.2807e-04\n",
            "Epoch 99/100\n",
            "487/487 [==============================] - 37s 76ms/step - loss: 6.2278e-04 - val_loss: 5.5843e-04\n",
            "Epoch 100/100\n",
            "487/487 [==============================] - 37s 76ms/step - loss: 6.3177e-04 - val_loss: 5.0395e-04\n"
          ],
          "name": "stdout"
        }
      ]
    },
    {
      "cell_type": "code",
      "metadata": {
        "id": "6dsAdczv8fZa",
        "colab_type": "code",
        "colab": {
          "base_uri": "https://localhost:8080/",
          "height": 391
        },
        "outputId": "921746f5-ecf8-4e37-fe56-c94130d3dc55"
      },
      "source": [
        "regressor.summary()"
      ],
      "execution_count": null,
      "outputs": [
        {
          "output_type": "stream",
          "text": [
            "Model: \"sequential\"\n",
            "_________________________________________________________________\n",
            "Layer (type)                 Output Shape              Param #   \n",
            "=================================================================\n",
            "lstm (LSTM)                  (None, 24, 100)           42800     \n",
            "_________________________________________________________________\n",
            "dropout (Dropout)            (None, 24, 100)           0         \n",
            "_________________________________________________________________\n",
            "lstm_1 (LSTM)                (None, 24, 75)            52800     \n",
            "_________________________________________________________________\n",
            "dropout_1 (Dropout)          (None, 24, 75)            0         \n",
            "_________________________________________________________________\n",
            "lstm_2 (LSTM)                (None, 50)                25200     \n",
            "_________________________________________________________________\n",
            "dropout_2 (Dropout)          (None, 50)                0         \n",
            "_________________________________________________________________\n",
            "dense (Dense)                (None, 1)                 51        \n",
            "=================================================================\n",
            "Total params: 120,851\n",
            "Trainable params: 120,851\n",
            "Non-trainable params: 0\n",
            "_________________________________________________________________\n"
          ],
          "name": "stdout"
        }
      ]
    },
    {
      "cell_type": "code",
      "metadata": {
        "id": "WUmcyaXc8k2B",
        "colab_type": "code",
        "colab": {
          "base_uri": "https://localhost:8080/",
          "height": 265
        },
        "outputId": "63ff304f-e64d-470f-8425-c58734c47679"
      },
      "source": [
        "#plot history\n",
        "plt.plot(history.history['loss'], label='train')\n",
        "plt.plot(history.history['val_loss'], label='test')\n",
        "plt.legend()\n",
        "plt.show()"
      ],
      "execution_count": null,
      "outputs": [
        {
          "output_type": "display_data",
          "data": {
            "image/png": "[encoded data removed]",
            "text/plain": [
              "<Figure size 432x288 with 1 Axes>"
            ]
          },
          "metadata": {
            "tags": [],
            "needs_background": "light"
          }
        }
      ]
    },
    {
      "cell_type": "code",
      "metadata": {
        "id": "FEk9pqFa8vj5",
        "colab_type": "code",
        "colab": {
          "base_uri": "https://localhost:8080/",
          "height": 136
        },
        "outputId": "9130bcd4-38c5-4e07-df68-111212039224"
      },
      "source": [
        "#Predict for the test value\n",
        "y_pred=regressor.predict(X_test)\n",
        "y_pred"
      ],
      "execution_count": null,
      "outputs": [
        {
          "output_type": "execute_result",
          "data": {
            "text/plain": [
              "array([[0.0218702 ],\n",
              "       [0.02214672],\n",
              "       [0.03940976],\n",
              "       ...,\n",
              "       [0.0140571 ],\n",
              "       [0.01408417],\n",
              "       [0.01336164]], dtype=float32)"
            ]
          },
          "metadata": {
            "tags": []
          },
          "execution_count": 37
        }
      ]
    },
    {
      "cell_type": "code",
      "metadata": {
        "id": "oIkG9Whv9aSk",
        "colab_type": "code",
        "colab": {}
      },
      "source": [
        "#inverse transform for actual range\n",
        "sc=MinMaxScaler(feature_range=(0,1))\n",
        "data_set_scaled=sc.fit_transform(dataset.iloc[:,0:1].values)\n",
        "y_pred=sc.inverse_transform(y_pred)\n",
        "y_real=sc.inverse_transform(test_scaled)"
      ],
      "execution_count": null,
      "outputs": []
    },
    {
      "cell_type": "code",
      "metadata": {
        "id": "tNOxgs-s9cAq",
        "colab_type": "code",
        "colab": {
          "base_uri": "https://localhost:8080/",
          "height": 255
        },
        "outputId": "5e4aae27-642b-488a-8937-58cf29362fa5"
      },
      "source": [
        "print(y_pred)\n",
        "y_real"
      ],
      "execution_count": null,
      "outputs": [
        {
          "output_type": "stream",
          "text": [
            "[[21.738976]\n",
            " [22.013845]\n",
            " [39.173298]\n",
            " ...\n",
            " [13.972757]\n",
            " [13.999663]\n",
            " [13.281471]]\n"
          ],
          "name": "stdout"
        },
        {
          "output_type": "execute_result",
          "data": {
            "text/plain": [
              "array([[24.00000084],\n",
              "       [53.00000186],\n",
              "       [65.00000229],\n",
              "       ...,\n",
              "       [10.00000035],\n",
              "       [ 8.00000028],\n",
              "       [12.00000042]])"
            ]
          },
          "metadata": {
            "tags": []
          },
          "execution_count": 39
        }
      ]
    },
    {
      "cell_type": "code",
      "metadata": {
        "id": "6JjEMm-H9plR",
        "colab_type": "code",
        "colab": {
          "base_uri": "https://localhost:8080/",
          "height": 34
        },
        "outputId": "625c3875-92c5-42ba-f5b1-e806b0c1f7a8"
      },
      "source": [
        "#RMSE for TEsting Dataset\n",
        "RMSE=np.sqrt(mean_squared_error(y_real,y_pred))\n",
        "print('RMSE value of Testing',RMSE)"
      ],
      "execution_count": null,
      "outputs": [
        {
          "output_type": "stream",
          "text": [
            "RMSE value of Testing 22.31409401003016\n"
          ],
          "name": "stdout"
        }
      ]
    },
    {
      "cell_type": "code",
      "metadata": {
        "id": "klS34WG39zjh",
        "colab_type": "code",
        "colab": {
          "base_uri": "https://localhost:8080/",
          "height": 295
        },
        "outputId": "b6ea71b0-ec3a-4b94-ec64-dd06864a032c"
      },
      "source": [
        "#Test Set plot\n",
        "plt.plot(y_real,label='Real Value')\n",
        "plt.plot(y_pred,label='Predict Value')\n",
        "plt.title('Test Set')\n",
        "plt.xlabel('Time')\n",
        "plt.ylabel('Pollution')\n",
        "plt.legend()\n",
        "plt.show()"
      ],
      "execution_count": null,
      "outputs": [
        {
          "output_type": "display_data",
          "data": {
            "image/png": "[encoded data removed]",
            "text/plain": [
              "<Figure size 432x288 with 1 Axes>"
            ]
          },
          "metadata": {
            "tags": [],
            "needs_background": "light"
          }
        }
      ]
    },
    {
      "cell_type": "code",
      "metadata": {
        "id": "S4Ni5ySq-Bwn",
        "colab_type": "code",
        "colab": {
          "base_uri": "https://localhost:8080/",
          "height": 34
        },
        "outputId": "a5b9f0be-a07b-450b-cdea-01a0d2d38694"
      },
      "source": [
        "#Traing Set\n",
        "X_pred=regressor.predict(X_train)\n",
        "X_pred=sc.inverse_transform(X_pred)\n",
        "#X_real=y_train.reshape(-1,1)\n",
        "X_real=sc.inverse_transform(y_train)\n",
        "#X_real.reshape(-1,1)\n",
        "RMSE_train=np.sqrt(mean_squared_error(X_real,X_pred))\n",
        "print('RMSE value for Traing Set',RMSE_train)"
      ],
      "execution_count": null,
      "outputs": [
        {
          "output_type": "stream",
          "text": [
            "RMSE value for Traing Set 23.337522937218484\n"
          ],
          "name": "stdout"
        }
      ]
    },
    {
      "cell_type": "code",
      "metadata": {
        "id": "Ksf2Vwoa-iN9",
        "colab_type": "code",
        "colab": {
          "base_uri": "https://localhost:8080/",
          "height": 295
        },
        "outputId": "df57a744-3b30-4a13-843e-03921b8d997b"
      },
      "source": [
        "#Traing Set plot\n",
        "plt.plot(X_real,label='Real Value')\n",
        "plt.plot(X_pred,label='Predict Value')\n",
        "plt.title('Training Set')\n",
        "plt.xlabel('Time')\n",
        "plt.ylabel('Pollution')\n",
        "plt.legend()\n",
        "plt.show()"
      ],
      "execution_count": null,
      "outputs": [
        {
          "output_type": "display_data",
          "data": {
            "image/png": "[encoded data removed]",
            "text/plain": [
              "<Figure size 432x288 with 1 Axes>"
            ]
          },
          "metadata": {
            "tags": [],
            "needs_background": "light"
          }
        }
      ]
    },
    {
      "cell_type": "code",
      "metadata": {
        "id": "hiy4K1Xe-0lo",
        "colab_type": "code",
        "colab": {
          "base_uri": "https://localhost:8080/",
          "height": 295
        },
        "outputId": "8d4a4e39-1201-4c25-af92-29ebfb18e036"
      },
      "source": [
        "plt.plot(y_real[:24*7,0],label='Actual Value ')\n",
        "plt.plot(y_pred[:24*7,0],label='Predicted Value')\n",
        "plt.title('Plot of 1st one week Pollution (1-1-2014 to 7-1-2014) of Testing Data Set')\n",
        "plt.xlabel('Time')\n",
        "plt.ylabel('Pollution')\n",
        "plt.legend()\n",
        "plt.show()"
      ],
      "execution_count": null,
      "outputs": [
        {
          "output_type": "display_data",
          "data": {
            "image/png": "[encoded data removed]",
            "text/plain": [
              "<Figure size 432x288 with 1 Axes>"
            ]
          },
          "metadata": {
            "tags": [],
            "needs_background": "light"
          }
        }
      ]
    },
    {
      "cell_type": "code",
      "metadata": {
        "id": "IVbT1MaF_Iz9",
        "colab_type": "code",
        "colab": {
          "base_uri": "https://localhost:8080/",
          "height": 295
        },
        "outputId": "ed62af51-fa7e-4777-e748-e71906d50389"
      },
      "source": [
        "plt.scatter(x=dataset.index[len(dataset)-365*24:len(train_scaled)+24*7],y=dataset['pollution'].iloc[len(dataset)-365*24:len(train_scaled)+24*7],color='red',label='Actual Value')\n",
        "plt.plot(dataset.index[len(dataset)-365*24:len(train_scaled)+24*7],y_pred[:24*7,0],label='Predicted Value')\n",
        "plt.title('Plot of 1st one week Pollution day(1-1-2014 to 4-1-2014) of Testing Data Set')\n",
        "plt.xlabel('Time')\n",
        "plt.ylabel('Pollution')\n",
        "plt.legend()\n",
        "plt.show()"
      ],
      "execution_count": null,
      "outputs": [
        {
          "output_type": "display_data",
          "data": {
            "image/png": "[encoded data removed]",
            "text/plain": [
              "<Figure size 432x288 with 1 Axes>"
            ]
          },
          "metadata": {
            "tags": [],
            "needs_background": "light"
          }
        }
      ]
    },
    {
      "cell_type": "code",
      "metadata": {
        "id": "0sW5t4EkMq1z",
        "colab_type": "code",
        "colab": {}
      },
      "source": [
        ""
      ],
      "execution_count": null,
      "outputs": []
    }
  ]
}